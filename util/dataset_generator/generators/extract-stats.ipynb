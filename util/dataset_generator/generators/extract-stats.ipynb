{
 "cells": [
  {
   "cell_type": "code",
   "execution_count": 1,
   "id": "5ab02ddd",
   "metadata": {},
   "outputs": [],
   "source": [
    "#!pip install --upgrade datasets"
   ]
  },
  {
   "cell_type": "code",
   "execution_count": 24,
   "id": "e7752db9",
   "metadata": {},
   "outputs": [],
   "source": [
    "import numpy as np\n",
    "import pandas as pd\n",
    "import datasets\n",
    "from datasets import load_dataset"
   ]
  },
  {
   "cell_type": "code",
   "execution_count": 25,
   "id": "beaeb91f",
   "metadata": {},
   "outputs": [],
   "source": [
    "# Both train and test\n",
    "data_seq2type = load_dataset(\"GGLab/GECTurk\")"
   ]
  },
  {
   "cell_type": "code",
   "execution_count": 26,
   "id": "05c698a5",
   "metadata": {},
   "outputs": [
    {
     "data": {
      "text/plain": [
       "DatasetDict({\n",
       "    train: Dataset({\n",
       "        features: ['tokens', 'labels'],\n",
       "        num_rows: 96919\n",
       "    })\n",
       "    dev: Dataset({\n",
       "        features: ['tokens', 'labels'],\n",
       "        num_rows: 20769\n",
       "    })\n",
       "    test: Dataset({\n",
       "        features: ['tokens', 'labels'],\n",
       "        num_rows: 20769\n",
       "    })\n",
       "    movie_reviews: Dataset({\n",
       "        features: ['tokens', 'labels'],\n",
       "        num_rows: 300\n",
       "    })\n",
       "})"
      ]
     },
     "execution_count": 26,
     "metadata": {},
     "output_type": "execute_result"
    }
   ],
   "source": [
    "data_seq2type"
   ]
  },
  {
   "cell_type": "code",
   "execution_count": 27,
   "id": "581dbc10",
   "metadata": {},
   "outputs": [],
   "source": [
    "from collections import defaultdict\n",
    "\n",
    "def extract_stats(dataset):\n",
    "    dct = defaultdict(set)\n",
    "    for row_idx, row in enumerate(dataset):\n",
    "        errorless=True\n",
    "        for token_type in row[\"labels\"]:\n",
    "            if token_type!=0:\n",
    "                errorless=False\n",
    "                dct[token_type].add(row_idx)\n",
    "                \n",
    "        if errorless:\n",
    "            dct[0].add(row_idx)\n",
    "            \n",
    "    return dict(dct)"
   ]
  },
  {
   "cell_type": "code",
   "execution_count": 28,
   "id": "7bdd6d70",
   "metadata": {},
   "outputs": [],
   "source": [
    "train_stats_dct = extract_stats(data_seq2type[\"train\"])\n",
    "dev_stats_dct = extract_stats(data_seq2type[\"dev\"])\n",
    "test_stats_dct = extract_stats(data_seq2type[\"test\"])\n",
    "reviews_stats_dct = extract_stats(data_seq2type[\"movie_reviews\"])"
   ]
  },
  {
   "cell_type": "code",
   "execution_count": 29,
   "id": "288ba792",
   "metadata": {},
   "outputs": [],
   "source": [
    "def get_stats(dct, slice_, print_=False):\n",
    "    print(\"Slice:\",slice_)\n",
    "    stats = dict()\n",
    "    \n",
    "    for type_, indexes in sorted(dct.items()):\n",
    "        stats[type_] = [len(indexes)]\n",
    "        if print_:\n",
    "            print(\"type:\", type_, \"num_samples:\", len(indexes))\n",
    "    \n",
    "    return pd.DataFrame(stats)\n"
   ]
  },
  {
   "cell_type": "code",
   "execution_count": 30,
   "id": "c79ffcfc",
   "metadata": {},
   "outputs": [
    {
     "name": "stdout",
     "output_type": "stream",
     "text": [
      "Slice: Train\n"
     ]
    },
    {
     "data": {
      "text/html": [
       "<div>\n",
       "<style scoped>\n",
       "    .dataframe tbody tr th:only-of-type {\n",
       "        vertical-align: middle;\n",
       "    }\n",
       "\n",
       "    .dataframe tbody tr th {\n",
       "        vertical-align: top;\n",
       "    }\n",
       "\n",
       "    .dataframe thead th {\n",
       "        text-align: right;\n",
       "    }\n",
       "</style>\n",
       "<table border=\"1\" class=\"dataframe\">\n",
       "  <thead>\n",
       "    <tr style=\"text-align: right;\">\n",
       "      <th></th>\n",
       "      <th>0</th>\n",
       "      <th>1</th>\n",
       "      <th>2</th>\n",
       "      <th>3</th>\n",
       "      <th>4</th>\n",
       "      <th>5</th>\n",
       "      <th>6</th>\n",
       "      <th>7</th>\n",
       "      <th>8</th>\n",
       "      <th>9</th>\n",
       "      <th>...</th>\n",
       "      <th>16</th>\n",
       "      <th>17</th>\n",
       "      <th>18</th>\n",
       "      <th>19</th>\n",
       "      <th>20</th>\n",
       "      <th>21</th>\n",
       "      <th>22</th>\n",
       "      <th>23</th>\n",
       "      <th>24</th>\n",
       "      <th>25</th>\n",
       "    </tr>\n",
       "  </thead>\n",
       "  <tbody>\n",
       "    <tr>\n",
       "      <th>0</th>\n",
       "      <td>48746</td>\n",
       "      <td>8592</td>\n",
       "      <td>72</td>\n",
       "      <td>66</td>\n",
       "      <td>330</td>\n",
       "      <td>7261</td>\n",
       "      <td>21875</td>\n",
       "      <td>1251</td>\n",
       "      <td>976</td>\n",
       "      <td>197</td>\n",
       "      <td>...</td>\n",
       "      <td>286</td>\n",
       "      <td>322</td>\n",
       "      <td>396</td>\n",
       "      <td>3</td>\n",
       "      <td>5110</td>\n",
       "      <td>38</td>\n",
       "      <td>2525</td>\n",
       "      <td>1828</td>\n",
       "      <td>583</td>\n",
       "      <td>193</td>\n",
       "    </tr>\n",
       "  </tbody>\n",
       "</table>\n",
       "<p>1 rows × 26 columns</p>\n",
       "</div>"
      ],
      "text/plain": [
       "      0     1   2   3    4     5      6     7    8    9   ...   16   17   18  \\\n",
       "0  48746  8592  72  66  330  7261  21875  1251  976  197  ...  286  322  396   \n",
       "\n",
       "   19    20  21    22    23   24   25  \n",
       "0   3  5110  38  2525  1828  583  193  \n",
       "\n",
       "[1 rows x 26 columns]"
      ]
     },
     "execution_count": 30,
     "metadata": {},
     "output_type": "execute_result"
    }
   ],
   "source": [
    "train_slice = get_stats(train_stats_dct, \"Train\")\n",
    "train_slice.head()"
   ]
  },
  {
   "cell_type": "code",
   "execution_count": 31,
   "id": "91394003",
   "metadata": {},
   "outputs": [
    {
     "name": "stdout",
     "output_type": "stream",
     "text": [
      "Slice: Dev\n"
     ]
    },
    {
     "data": {
      "text/html": [
       "<div>\n",
       "<style scoped>\n",
       "    .dataframe tbody tr th:only-of-type {\n",
       "        vertical-align: middle;\n",
       "    }\n",
       "\n",
       "    .dataframe tbody tr th {\n",
       "        vertical-align: top;\n",
       "    }\n",
       "\n",
       "    .dataframe thead th {\n",
       "        text-align: right;\n",
       "    }\n",
       "</style>\n",
       "<table border=\"1\" class=\"dataframe\">\n",
       "  <thead>\n",
       "    <tr style=\"text-align: right;\">\n",
       "      <th></th>\n",
       "      <th>0</th>\n",
       "      <th>1</th>\n",
       "      <th>2</th>\n",
       "      <th>3</th>\n",
       "      <th>4</th>\n",
       "      <th>5</th>\n",
       "      <th>6</th>\n",
       "      <th>7</th>\n",
       "      <th>8</th>\n",
       "      <th>9</th>\n",
       "      <th>...</th>\n",
       "      <th>15</th>\n",
       "      <th>16</th>\n",
       "      <th>17</th>\n",
       "      <th>18</th>\n",
       "      <th>20</th>\n",
       "      <th>21</th>\n",
       "      <th>22</th>\n",
       "      <th>23</th>\n",
       "      <th>24</th>\n",
       "      <th>25</th>\n",
       "    </tr>\n",
       "  </thead>\n",
       "  <tbody>\n",
       "    <tr>\n",
       "      <th>0</th>\n",
       "      <td>10506</td>\n",
       "      <td>1814</td>\n",
       "      <td>16</td>\n",
       "      <td>17</td>\n",
       "      <td>73</td>\n",
       "      <td>1545</td>\n",
       "      <td>4637</td>\n",
       "      <td>268</td>\n",
       "      <td>205</td>\n",
       "      <td>48</td>\n",
       "      <td>...</td>\n",
       "      <td>51</td>\n",
       "      <td>67</td>\n",
       "      <td>75</td>\n",
       "      <td>72</td>\n",
       "      <td>1088</td>\n",
       "      <td>7</td>\n",
       "      <td>570</td>\n",
       "      <td>413</td>\n",
       "      <td>98</td>\n",
       "      <td>41</td>\n",
       "    </tr>\n",
       "  </tbody>\n",
       "</table>\n",
       "<p>1 rows × 25 columns</p>\n",
       "</div>"
      ],
      "text/plain": [
       "      0     1   2   3   4     5     6    7    8   9   ...  15  16  17  18  \\\n",
       "0  10506  1814  16  17  73  1545  4637  268  205  48  ...  51  67  75  72   \n",
       "\n",
       "     20  21   22   23  24  25  \n",
       "0  1088   7  570  413  98  41  \n",
       "\n",
       "[1 rows x 25 columns]"
      ]
     },
     "execution_count": 31,
     "metadata": {},
     "output_type": "execute_result"
    }
   ],
   "source": [
    "dev_slice = get_stats(dev_stats_dct, \"Dev\")\n",
    "dev_slice.head()"
   ]
  },
  {
   "cell_type": "code",
   "execution_count": 32,
   "id": "c7ca4116",
   "metadata": {},
   "outputs": [
    {
     "name": "stdout",
     "output_type": "stream",
     "text": [
      "Slice: Test\n"
     ]
    },
    {
     "data": {
      "text/html": [
       "<div>\n",
       "<style scoped>\n",
       "    .dataframe tbody tr th:only-of-type {\n",
       "        vertical-align: middle;\n",
       "    }\n",
       "\n",
       "    .dataframe tbody tr th {\n",
       "        vertical-align: top;\n",
       "    }\n",
       "\n",
       "    .dataframe thead th {\n",
       "        text-align: right;\n",
       "    }\n",
       "</style>\n",
       "<table border=\"1\" class=\"dataframe\">\n",
       "  <thead>\n",
       "    <tr style=\"text-align: right;\">\n",
       "      <th></th>\n",
       "      <th>0</th>\n",
       "      <th>1</th>\n",
       "      <th>2</th>\n",
       "      <th>3</th>\n",
       "      <th>4</th>\n",
       "      <th>5</th>\n",
       "      <th>6</th>\n",
       "      <th>7</th>\n",
       "      <th>8</th>\n",
       "      <th>9</th>\n",
       "      <th>...</th>\n",
       "      <th>16</th>\n",
       "      <th>17</th>\n",
       "      <th>18</th>\n",
       "      <th>19</th>\n",
       "      <th>20</th>\n",
       "      <th>21</th>\n",
       "      <th>22</th>\n",
       "      <th>23</th>\n",
       "      <th>24</th>\n",
       "      <th>25</th>\n",
       "    </tr>\n",
       "  </thead>\n",
       "  <tbody>\n",
       "    <tr>\n",
       "      <th>0</th>\n",
       "      <td>10457</td>\n",
       "      <td>1835</td>\n",
       "      <td>13</td>\n",
       "      <td>16</td>\n",
       "      <td>69</td>\n",
       "      <td>1581</td>\n",
       "      <td>4627</td>\n",
       "      <td>280</td>\n",
       "      <td>169</td>\n",
       "      <td>59</td>\n",
       "      <td>...</td>\n",
       "      <td>61</td>\n",
       "      <td>62</td>\n",
       "      <td>72</td>\n",
       "      <td>1</td>\n",
       "      <td>1102</td>\n",
       "      <td>8</td>\n",
       "      <td>594</td>\n",
       "      <td>372</td>\n",
       "      <td>132</td>\n",
       "      <td>36</td>\n",
       "    </tr>\n",
       "  </tbody>\n",
       "</table>\n",
       "<p>1 rows × 26 columns</p>\n",
       "</div>"
      ],
      "text/plain": [
       "      0     1   2   3   4     5     6    7    8   9   ...  16  17  18  19  \\\n",
       "0  10457  1835  13  16  69  1581  4627  280  169  59  ...  61  62  72   1   \n",
       "\n",
       "     20  21   22   23   24  25  \n",
       "0  1102   8  594  372  132  36  \n",
       "\n",
       "[1 rows x 26 columns]"
      ]
     },
     "execution_count": 32,
     "metadata": {},
     "output_type": "execute_result"
    }
   ],
   "source": [
    "test_slice = get_stats(test_stats_dct, \"Test\")\n",
    "test_slice.head()"
   ]
  },
  {
   "cell_type": "code",
   "execution_count": 33,
   "id": "0133c9e1",
   "metadata": {},
   "outputs": [
    {
     "data": {
      "text/html": [
       "<div>\n",
       "<style scoped>\n",
       "    .dataframe tbody tr th:only-of-type {\n",
       "        vertical-align: middle;\n",
       "    }\n",
       "\n",
       "    .dataframe tbody tr th {\n",
       "        vertical-align: top;\n",
       "    }\n",
       "\n",
       "    .dataframe thead th {\n",
       "        text-align: right;\n",
       "    }\n",
       "</style>\n",
       "<table border=\"1\" class=\"dataframe\">\n",
       "  <thead>\n",
       "    <tr style=\"text-align: right;\">\n",
       "      <th></th>\n",
       "      <th>0</th>\n",
       "      <th>1</th>\n",
       "      <th>2</th>\n",
       "      <th>3</th>\n",
       "      <th>4</th>\n",
       "      <th>5</th>\n",
       "      <th>6</th>\n",
       "      <th>7</th>\n",
       "      <th>8</th>\n",
       "      <th>9</th>\n",
       "      <th>...</th>\n",
       "      <th>16</th>\n",
       "      <th>17</th>\n",
       "      <th>18</th>\n",
       "      <th>19</th>\n",
       "      <th>20</th>\n",
       "      <th>21</th>\n",
       "      <th>22</th>\n",
       "      <th>23</th>\n",
       "      <th>24</th>\n",
       "      <th>25</th>\n",
       "    </tr>\n",
       "  </thead>\n",
       "  <tbody>\n",
       "    <tr>\n",
       "      <th>train</th>\n",
       "      <td>48746</td>\n",
       "      <td>8592</td>\n",
       "      <td>72</td>\n",
       "      <td>66</td>\n",
       "      <td>330</td>\n",
       "      <td>7261</td>\n",
       "      <td>21875</td>\n",
       "      <td>1251</td>\n",
       "      <td>976</td>\n",
       "      <td>197</td>\n",
       "      <td>...</td>\n",
       "      <td>286</td>\n",
       "      <td>322</td>\n",
       "      <td>396</td>\n",
       "      <td>3.0</td>\n",
       "      <td>5110</td>\n",
       "      <td>38</td>\n",
       "      <td>2525</td>\n",
       "      <td>1828</td>\n",
       "      <td>583</td>\n",
       "      <td>193</td>\n",
       "    </tr>\n",
       "    <tr>\n",
       "      <th>dev</th>\n",
       "      <td>10506</td>\n",
       "      <td>1814</td>\n",
       "      <td>16</td>\n",
       "      <td>17</td>\n",
       "      <td>73</td>\n",
       "      <td>1545</td>\n",
       "      <td>4637</td>\n",
       "      <td>268</td>\n",
       "      <td>205</td>\n",
       "      <td>48</td>\n",
       "      <td>...</td>\n",
       "      <td>67</td>\n",
       "      <td>75</td>\n",
       "      <td>72</td>\n",
       "      <td>NaN</td>\n",
       "      <td>1088</td>\n",
       "      <td>7</td>\n",
       "      <td>570</td>\n",
       "      <td>413</td>\n",
       "      <td>98</td>\n",
       "      <td>41</td>\n",
       "    </tr>\n",
       "    <tr>\n",
       "      <th>test</th>\n",
       "      <td>10457</td>\n",
       "      <td>1835</td>\n",
       "      <td>13</td>\n",
       "      <td>16</td>\n",
       "      <td>69</td>\n",
       "      <td>1581</td>\n",
       "      <td>4627</td>\n",
       "      <td>280</td>\n",
       "      <td>169</td>\n",
       "      <td>59</td>\n",
       "      <td>...</td>\n",
       "      <td>61</td>\n",
       "      <td>62</td>\n",
       "      <td>72</td>\n",
       "      <td>1.0</td>\n",
       "      <td>1102</td>\n",
       "      <td>8</td>\n",
       "      <td>594</td>\n",
       "      <td>372</td>\n",
       "      <td>132</td>\n",
       "      <td>36</td>\n",
       "    </tr>\n",
       "  </tbody>\n",
       "</table>\n",
       "<p>3 rows × 26 columns</p>\n",
       "</div>"
      ],
      "text/plain": [
       "          0     1   2   3    4     5      6     7    8    9   ...   16   17  \\\n",
       "train  48746  8592  72  66  330  7261  21875  1251  976  197  ...  286  322   \n",
       "dev    10506  1814  16  17   73  1545   4637   268  205   48  ...   67   75   \n",
       "test   10457  1835  13  16   69  1581   4627   280  169   59  ...   61   62   \n",
       "\n",
       "        18   19    20  21    22    23   24   25  \n",
       "train  396  3.0  5110  38  2525  1828  583  193  \n",
       "dev     72  NaN  1088   7   570   413   98   41  \n",
       "test    72  1.0  1102   8   594   372  132   36  \n",
       "\n",
       "[3 rows x 26 columns]"
      ]
     },
     "execution_count": 33,
     "metadata": {},
     "output_type": "execute_result"
    }
   ],
   "source": [
    "concated = pd.concat([train_slice,dev_slice,test_slice],axis=0)\n",
    "concated.index = [\"train\", \"dev\", \"test\"]\n",
    "concated.head()"
   ]
  },
  {
   "cell_type": "code",
   "execution_count": 34,
   "id": "08d788ef",
   "metadata": {},
   "outputs": [
    {
     "data": {
      "text/plain": [
       "array([48746,  8592,    72,    66,   330,  7261, 21875,  1251,   976,\n",
       "         197,   266,  3681,  8033,  1086,   605,   228,   286,   322,\n",
       "         396,     3,  5110,    38,  2525,  1828,   583,   193])"
      ]
     },
     "execution_count": 34,
     "metadata": {},
     "output_type": "execute_result"
    }
   ],
   "source": [
    "train_slice.iloc[0,:].values"
   ]
  },
  {
   "cell_type": "code",
   "execution_count": 35,
   "id": "444d8cae",
   "metadata": {},
   "outputs": [],
   "source": [
    "import seaborn as sns\n",
    "import matplotlib.pyplot as plt\n",
    "num_samples_total = (concated.describe().loc[\"mean\",:]*3)"
   ]
  },
  {
   "cell_type": "code",
   "execution_count": 36,
   "id": "2b2bf7dd",
   "metadata": {},
   "outputs": [
    {
     "data": {
      "text/plain": [
       "827.5"
      ]
     },
     "execution_count": 36,
     "metadata": {},
     "output_type": "execute_result"
    }
   ],
   "source": [
    "num_samples_total.median()"
   ]
  },
  {
   "cell_type": "code",
   "execution_count": 37,
   "id": "e5b78d83",
   "metadata": {},
   "outputs": [
    {
     "data": {
      "text/plain": [
       "0     69709.0\n",
       "1     12241.0\n",
       "2       101.0\n",
       "3        99.0\n",
       "4       472.0\n",
       "5     10387.0\n",
       "6     31139.0\n",
       "7      1799.0\n",
       "8      1350.0\n",
       "9       304.0\n",
       "10      390.0\n",
       "11     5235.0\n",
       "12    11503.0\n",
       "13     1531.0\n",
       "14      842.0\n",
       "15      327.0\n",
       "16      414.0\n",
       "17      459.0\n",
       "18      540.0\n",
       "19        6.0\n",
       "20     7300.0\n",
       "21       53.0\n",
       "22     3689.0\n",
       "23     2613.0\n",
       "24      813.0\n",
       "25      270.0\n",
       "Name: mean, dtype: float64"
      ]
     },
     "execution_count": 37,
     "metadata": {},
     "output_type": "execute_result"
    }
   ],
   "source": [
    "num_samples_total"
   ]
  },
  {
   "cell_type": "code",
   "execution_count": 38,
   "id": "86344b27",
   "metadata": {},
   "outputs": [
    {
     "name": "stdout",
     "output_type": "stream",
     "text": [
      "0     False\n",
      "1     False\n",
      "2      True\n",
      "3      True\n",
      "4      True\n",
      "5     False\n",
      "6     False\n",
      "7     False\n",
      "8     False\n",
      "9      True\n",
      "10     True\n",
      "11    False\n",
      "12    False\n",
      "13    False\n",
      "14    False\n",
      "15     True\n",
      "16     True\n",
      "17     True\n",
      "18    False\n",
      "19     True\n",
      "20    False\n",
      "21     True\n",
      "22    False\n",
      "23    False\n",
      "24    False\n",
      "25     True\n",
      "Name: mean, dtype: bool\n"
     ]
    }
   ],
   "source": [
    "print(num_samples_total<500)"
   ]
  },
  {
   "cell_type": "code",
   "execution_count": 39,
   "id": "4ce4463d",
   "metadata": {},
   "outputs": [
    {
     "name": "stdout",
     "output_type": "stream",
     "text": [
      "[1.2241e+04 1.0100e+02 9.9000e+01 4.7200e+02 1.0387e+04 1.7990e+03\n",
      " 1.3500e+03 3.0400e+02 3.9000e+02 5.2350e+03 1.1503e+04 1.5310e+03\n",
      " 8.4200e+02 3.2700e+02 4.1400e+02 4.5900e+02 5.4000e+02 6.0000e+00\n",
      " 7.3000e+03 5.3000e+01 3.6890e+03 2.6130e+03 8.1300e+02 2.7000e+02]\n"
     ]
    }
   ],
   "source": [
    "#Type 0 and Type 6 are extremes\n",
    "print(num_samples_total[1:].drop(6,axis=0).values)"
   ]
  },
  {
   "cell_type": "code",
   "execution_count": 40,
   "id": "6f707401",
   "metadata": {
    "scrolled": false
   },
   "outputs": [
    {
     "data": {
      "image/png": "[encoded data removed]",
      "text/plain": [
       "<Figure size 1000x500 with 1 Axes>"
      ]
     },
     "metadata": {},
     "output_type": "display_data"
    }
   ],
   "source": [
    "import matplotlib.pyplot as plt\n",
    "import numpy as np\n",
    "\n",
    "# Generate some sample data (random for demonstration)\n",
    "np.random.seed(0)\n",
    "hist_data = num_samples_total.values  # Gamma distribution for demonstration\n",
    "\n",
    "# Define the bins as specified\n",
    "bins = [1,10, 100, 250, 500, 800, 1000, 5000, 10000, 30000,70000]\n",
    "\n",
    "# Create histogram\n",
    "plt.figure(figsize=(10, 5))\n",
    "counts, edges, patches = plt.hist(hist_data, bins=bins, edgecolor='black')\n",
    "\n",
    "plt.xscale(\"log\")\n",
    "plt.xticks(bins)\n",
    "\n",
    "# Add labels and titles\n",
    "plt.xlabel('Num_Samples')\n",
    "plt.ylabel('Frequency')\n",
    "plt.title('Custom Range Histogram')\n",
    "\n",
    "# Optional: Add text inside the plot for bin counts\n",
    "for patch, count in zip(patches, counts):\n",
    "    plt.text(patch.xy[0] + patch.get_width()/2, patch.get_height()/2, str(int(count)), \n",
    "             ha='center', va='center', color='white', fontsize=8)\n",
    "\n",
    "plt.show()\n"
   ]
  },
  {
   "cell_type": "code",
   "execution_count": 41,
   "id": "e3f5aa36",
   "metadata": {},
   "outputs": [],
   "source": [
    "def get_error_examples(type_, n_examples=3):\n",
    "    indexes = np.array(list(train_stats_dct[type_]))\n",
    "    n_examples = min(indexes.shape[0], n_examples)\n",
    "    sample = np.random.choice(indexes, size=n_examples, replace=False)\n",
    "    for i in sample:\n",
    "        i = int(i)\n",
    "        print(\" \".join(data_seq2type[\"train\"][i][\"tokens\"]),\n",
    "              \"\\n\",data_seq2type[\"train\"][i][\"labels\"], \"\\n\")\n"
   ]
  },
  {
   "cell_type": "code",
   "execution_count": 42,
   "id": "07d3daae",
   "metadata": {},
   "outputs": [
    {
     "name": "stdout",
     "output_type": "stream",
     "text": [
      "Gece sorumluluğu sırası Antepli Ökkeş Abi'deyse, ona uğramadan gider yada işe dalarsam surat yapıyor. \n",
      " [0, 0, 0, 0, 0, 0, 0, 0, 0, 4, 0, 0, 0, 0] \n",
      "\n",
      "Ancak, yemeğe misafir geleceği zaman durum farklıydı, annemiz sıkı sıkıya tembih ederdi, akşam eve misafir gelecek, babanız çarşı ekmeği alsın yada göndersin. \n",
      " [0, 0, 0, 0, 0, 0, 0, 0, 0, 0, 0, 0, 0, 0, 0, 0, 0, 0, 0, 0, 4, 0] \n",
      "\n",
      "Bir zamanlar sosyalizmi nasıl mümkün kılarızı konuşurken yada onun için savaşırken şimdi bakmışsınız, siz başka adlar taksanızda, uluslar arası sermayenin/otantik sermayenin iktidarını sürdürmesi için gecelerini gündüzlerine katıyorlar. \n",
      " [0, 0, 0, 0, 0, 0, 0, 4, 0, 0, 0, 0, 0, 0, 0, 0, 0, 0, 0, 0, 0, 0, 0, 0, 0, 0, 0] \n",
      "\n",
      "Bu bilgileri Fransız siyasetçileri yada meslektaşları mat etmek için toplamıyorum... \n",
      " [0, 0, 0, 0, 4, 0, 0, 0, 0, 0] \n",
      "\n"
     ]
    }
   ],
   "source": [
    "get_error_examples(4,4)"
   ]
  },
  {
   "cell_type": "code",
   "execution_count": 21,
   "id": "1201bb30",
   "metadata": {},
   "outputs": [
    {
     "data": {
      "text/plain": [
       "0     69709.0\n",
       "1     12241.0\n",
       "2       101.0\n",
       "3        99.0\n",
       "4       472.0\n",
       "5     10387.0\n",
       "6     31139.0\n",
       "7      1799.0\n",
       "8      1350.0\n",
       "9       304.0\n",
       "10      390.0\n",
       "11     5235.0\n",
       "12    11503.0\n",
       "13     1531.0\n",
       "14      842.0\n",
       "15      327.0\n",
       "16      414.0\n",
       "17      459.0\n",
       "18      540.0\n",
       "19        6.0\n",
       "20     7300.0\n",
       "21       53.0\n",
       "22     3689.0\n",
       "23     2613.0\n",
       "24      813.0\n",
       "25      270.0\n",
       "Name: mean, dtype: float64"
      ]
     },
     "execution_count": 21,
     "metadata": {},
     "output_type": "execute_result"
    }
   ],
   "source": [
    "num_samples_total"
   ]
  },
  {
   "cell_type": "code",
   "execution_count": 1,
   "id": "416d5ab8",
   "metadata": {},
   "outputs": [
    {
     "data": {
      "image/png": "[encoded data removed]",
      "text/plain": [
       "<Figure size 640x480 with 1 Axes>"
      ]
     },
     "metadata": {},
     "output_type": "display_data"
    }
   ],
   "source": [
    "import numpy as np\n",
    "import matplotlib.pyplot as plt\n",
    "\n",
    "# Sample counts\n",
    "counts = np.array([0, 8592, 72, 66, 330, 7261, 21875, 1251, 976, 197, 266, 3681, 8033, 1086, 605, 228, 286, 322, 396, 3, 5110, 38, 2525, 1828, 583, 193])\n",
    "\n",
    "# Threshold for merging classes\n",
    "threshold = 1000\n",
    "\n",
    "# Separate classes above and below the threshold\n",
    "above_threshold_counts = counts[counts >= threshold]\n",
    "below_threshold_counts = counts[counts < threshold]\n",
    "\n",
    "# Create bin labels for classes above the threshold\n",
    "above_threshold_labels = [\"type_\" + str(i) for i in [1,5,6,7,11,12,13,20,22,23]]\n",
    "\n",
    "# Check if there are any classes below the threshold\n",
    "if len(below_threshold_counts) > 0:\n",
    "  # Calculate the average count for classes below the threshold\n",
    "  average_count = np.mean(below_threshold_counts)\n",
    "  # Create a bin label for the merged class\n",
    "  below_threshold_label = \"other\"\n",
    "  # Combine labels and counts\n",
    "  labels = np.concatenate((above_threshold_labels, [below_threshold_label]))\n",
    "  counts = np.concatenate((above_threshold_counts, [average_count]))\n",
    "else:\n",
    "  # No classes below the threshold, use original labels and counts\n",
    "  labels = [\"type_\" + str(i) for i in range(len(counts))]\n",
    "  counts = counts\n",
    "\n",
    "# Create the histogram\n",
    "plt.bar(labels, counts)\n",
    "plt.xlabel(\"Class Type\")\n",
    "plt.ylabel(\"Sample Count\")\n",
    "plt.title(\"Sample Count Distribution\")\n",
    "plt.xticks(rotation=45)  # Rotate x-axis labels for better readability\n",
    "plt.tight_layout()\n",
    "plt.show()"
   ]
  },
  {
   "cell_type": "code",
   "execution_count": 43,
   "id": "b363bb9c",
   "metadata": {},
   "outputs": [
    {
     "ename": "ValueError",
     "evalue": "shape mismatch: objects cannot be broadcast to a single shape.  Mismatch is between arg 0 with shape (5,) and arg 1 with shape (3,).",
     "output_type": "error",
     "traceback": [
      "\u001b[0;31m---------------------------------------------------------------------------\u001b[0m",
      "\u001b[0;31mValueError\u001b[0m                                Traceback (most recent call last)",
      "Cell \u001b[0;32mIn[43], line 33\u001b[0m\n\u001b[1;32m     30\u001b[0m   counts \u001b[38;5;241m=\u001b[39m counts\n\u001b[1;32m     32\u001b[0m \u001b[38;5;66;03m# Create the histogram\u001b[39;00m\n\u001b[0;32m---> 33\u001b[0m plt\u001b[38;5;241m.\u001b[39mbar(labels, counts)\n\u001b[1;32m     34\u001b[0m plt\u001b[38;5;241m.\u001b[39mxlabel(\u001b[38;5;124m\"\u001b[39m\u001b[38;5;124mClass Type\u001b[39m\u001b[38;5;124m\"\u001b[39m)\n\u001b[1;32m     35\u001b[0m plt\u001b[38;5;241m.\u001b[39mylabel(\u001b[38;5;124m\"\u001b[39m\u001b[38;5;124mSample Count\u001b[39m\u001b[38;5;124m\"\u001b[39m)\n",
      "File \u001b[0;32m~/anaconda3/lib/python3.11/site-packages/matplotlib/pyplot.py:2439\u001b[0m, in \u001b[0;36mbar\u001b[0;34m(x, height, width, bottom, align, data, **kwargs)\u001b[0m\n\u001b[1;32m   2435\u001b[0m \u001b[38;5;129m@_copy_docstring_and_deprecators\u001b[39m(Axes\u001b[38;5;241m.\u001b[39mbar)\n\u001b[1;32m   2436\u001b[0m \u001b[38;5;28;01mdef\u001b[39;00m \u001b[38;5;21mbar\u001b[39m(\n\u001b[1;32m   2437\u001b[0m         x, height, width\u001b[38;5;241m=\u001b[39m\u001b[38;5;241m0.8\u001b[39m, bottom\u001b[38;5;241m=\u001b[39m\u001b[38;5;28;01mNone\u001b[39;00m, \u001b[38;5;241m*\u001b[39m, align\u001b[38;5;241m=\u001b[39m\u001b[38;5;124m'\u001b[39m\u001b[38;5;124mcenter\u001b[39m\u001b[38;5;124m'\u001b[39m,\n\u001b[1;32m   2438\u001b[0m         data\u001b[38;5;241m=\u001b[39m\u001b[38;5;28;01mNone\u001b[39;00m, \u001b[38;5;241m*\u001b[39m\u001b[38;5;241m*\u001b[39mkwargs):\n\u001b[0;32m-> 2439\u001b[0m     \u001b[38;5;28;01mreturn\u001b[39;00m gca()\u001b[38;5;241m.\u001b[39mbar(\n\u001b[1;32m   2440\u001b[0m         x, height, width\u001b[38;5;241m=\u001b[39mwidth, bottom\u001b[38;5;241m=\u001b[39mbottom, align\u001b[38;5;241m=\u001b[39malign,\n\u001b[1;32m   2441\u001b[0m         \u001b[38;5;241m*\u001b[39m\u001b[38;5;241m*\u001b[39m({\u001b[38;5;124m\"\u001b[39m\u001b[38;5;124mdata\u001b[39m\u001b[38;5;124m\"\u001b[39m: data} \u001b[38;5;28;01mif\u001b[39;00m data \u001b[38;5;129;01mis\u001b[39;00m \u001b[38;5;129;01mnot\u001b[39;00m \u001b[38;5;28;01mNone\u001b[39;00m \u001b[38;5;28;01melse\u001b[39;00m {}), \u001b[38;5;241m*\u001b[39m\u001b[38;5;241m*\u001b[39mkwargs)\n",
      "File \u001b[0;32m~/anaconda3/lib/python3.11/site-packages/matplotlib/__init__.py:1442\u001b[0m, in \u001b[0;36m_preprocess_data.<locals>.inner\u001b[0;34m(ax, data, *args, **kwargs)\u001b[0m\n\u001b[1;32m   1439\u001b[0m \u001b[38;5;129m@functools\u001b[39m\u001b[38;5;241m.\u001b[39mwraps(func)\n\u001b[1;32m   1440\u001b[0m \u001b[38;5;28;01mdef\u001b[39;00m \u001b[38;5;21minner\u001b[39m(ax, \u001b[38;5;241m*\u001b[39margs, data\u001b[38;5;241m=\u001b[39m\u001b[38;5;28;01mNone\u001b[39;00m, \u001b[38;5;241m*\u001b[39m\u001b[38;5;241m*\u001b[39mkwargs):\n\u001b[1;32m   1441\u001b[0m     \u001b[38;5;28;01mif\u001b[39;00m data \u001b[38;5;129;01mis\u001b[39;00m \u001b[38;5;28;01mNone\u001b[39;00m:\n\u001b[0;32m-> 1442\u001b[0m         \u001b[38;5;28;01mreturn\u001b[39;00m func(ax, \u001b[38;5;241m*\u001b[39m\u001b[38;5;28mmap\u001b[39m(sanitize_sequence, args), \u001b[38;5;241m*\u001b[39m\u001b[38;5;241m*\u001b[39mkwargs)\n\u001b[1;32m   1444\u001b[0m     bound \u001b[38;5;241m=\u001b[39m new_sig\u001b[38;5;241m.\u001b[39mbind(ax, \u001b[38;5;241m*\u001b[39margs, \u001b[38;5;241m*\u001b[39m\u001b[38;5;241m*\u001b[39mkwargs)\n\u001b[1;32m   1445\u001b[0m     auto_label \u001b[38;5;241m=\u001b[39m (bound\u001b[38;5;241m.\u001b[39marguments\u001b[38;5;241m.\u001b[39mget(label_namer)\n\u001b[1;32m   1446\u001b[0m                   \u001b[38;5;129;01mor\u001b[39;00m bound\u001b[38;5;241m.\u001b[39mkwargs\u001b[38;5;241m.\u001b[39mget(label_namer))\n",
      "File \u001b[0;32m~/anaconda3/lib/python3.11/site-packages/matplotlib/axes/_axes.py:2417\u001b[0m, in \u001b[0;36mAxes.bar\u001b[0;34m(self, x, height, width, bottom, align, **kwargs)\u001b[0m\n\u001b[1;32m   2414\u001b[0m     \u001b[38;5;28;01mif\u001b[39;00m yerr \u001b[38;5;129;01mis\u001b[39;00m \u001b[38;5;129;01mnot\u001b[39;00m \u001b[38;5;28;01mNone\u001b[39;00m:\n\u001b[1;32m   2415\u001b[0m         yerr \u001b[38;5;241m=\u001b[39m \u001b[38;5;28mself\u001b[39m\u001b[38;5;241m.\u001b[39m_convert_dx(yerr, y0, y, \u001b[38;5;28mself\u001b[39m\u001b[38;5;241m.\u001b[39mconvert_yunits)\n\u001b[0;32m-> 2417\u001b[0m x, height, width, y, linewidth, hatch \u001b[38;5;241m=\u001b[39m np\u001b[38;5;241m.\u001b[39mbroadcast_arrays(\n\u001b[1;32m   2418\u001b[0m     \u001b[38;5;66;03m# Make args iterable too.\u001b[39;00m\n\u001b[1;32m   2419\u001b[0m     np\u001b[38;5;241m.\u001b[39matleast_1d(x), height, width, y, linewidth, hatch)\n\u001b[1;32m   2421\u001b[0m \u001b[38;5;66;03m# Now that units have been converted, set the tick locations.\u001b[39;00m\n\u001b[1;32m   2422\u001b[0m \u001b[38;5;28;01mif\u001b[39;00m orientation \u001b[38;5;241m==\u001b[39m \u001b[38;5;124m'\u001b[39m\u001b[38;5;124mvertical\u001b[39m\u001b[38;5;124m'\u001b[39m:\n",
      "File \u001b[0;32m~/anaconda3/lib/python3.11/site-packages/numpy/lib/stride_tricks.py:540\u001b[0m, in \u001b[0;36mbroadcast_arrays\u001b[0;34m(subok, *args)\u001b[0m\n\u001b[1;32m    533\u001b[0m \u001b[38;5;66;03m# nditer is not used here to avoid the limit of 32 arrays.\u001b[39;00m\n\u001b[1;32m    534\u001b[0m \u001b[38;5;66;03m# Otherwise, something like the following one-liner would suffice:\u001b[39;00m\n\u001b[1;32m    535\u001b[0m \u001b[38;5;66;03m# return np.nditer(args, flags=['multi_index', 'zerosize_ok'],\u001b[39;00m\n\u001b[1;32m    536\u001b[0m \u001b[38;5;66;03m#                  order='C').itviews\u001b[39;00m\n\u001b[1;32m    538\u001b[0m args \u001b[38;5;241m=\u001b[39m [np\u001b[38;5;241m.\u001b[39marray(_m, copy\u001b[38;5;241m=\u001b[39m\u001b[38;5;28;01mFalse\u001b[39;00m, subok\u001b[38;5;241m=\u001b[39msubok) \u001b[38;5;28;01mfor\u001b[39;00m _m \u001b[38;5;129;01min\u001b[39;00m args]\n\u001b[0;32m--> 540\u001b[0m shape \u001b[38;5;241m=\u001b[39m _broadcast_shape(\u001b[38;5;241m*\u001b[39margs)\n\u001b[1;32m    542\u001b[0m \u001b[38;5;28;01mif\u001b[39;00m \u001b[38;5;28mall\u001b[39m(array\u001b[38;5;241m.\u001b[39mshape \u001b[38;5;241m==\u001b[39m shape \u001b[38;5;28;01mfor\u001b[39;00m array \u001b[38;5;129;01min\u001b[39;00m args):\n\u001b[1;32m    543\u001b[0m     \u001b[38;5;66;03m# Common case where nothing needs to be broadcasted.\u001b[39;00m\n\u001b[1;32m    544\u001b[0m     \u001b[38;5;28;01mreturn\u001b[39;00m args\n",
      "File \u001b[0;32m~/anaconda3/lib/python3.11/site-packages/numpy/lib/stride_tricks.py:422\u001b[0m, in \u001b[0;36m_broadcast_shape\u001b[0;34m(*args)\u001b[0m\n\u001b[1;32m    417\u001b[0m \u001b[38;5;250m\u001b[39m\u001b[38;5;124;03m\"\"\"Returns the shape of the arrays that would result from broadcasting the\u001b[39;00m\n\u001b[1;32m    418\u001b[0m \u001b[38;5;124;03msupplied arrays against each other.\u001b[39;00m\n\u001b[1;32m    419\u001b[0m \u001b[38;5;124;03m\"\"\"\u001b[39;00m\n\u001b[1;32m    420\u001b[0m \u001b[38;5;66;03m# use the old-iterator because np.nditer does not handle size 0 arrays\u001b[39;00m\n\u001b[1;32m    421\u001b[0m \u001b[38;5;66;03m# consistently\u001b[39;00m\n\u001b[0;32m--> 422\u001b[0m b \u001b[38;5;241m=\u001b[39m np\u001b[38;5;241m.\u001b[39mbroadcast(\u001b[38;5;241m*\u001b[39margs[:\u001b[38;5;241m32\u001b[39m])\n\u001b[1;32m    423\u001b[0m \u001b[38;5;66;03m# unfortunately, it cannot handle 32 or more arguments directly\u001b[39;00m\n\u001b[1;32m    424\u001b[0m \u001b[38;5;28;01mfor\u001b[39;00m pos \u001b[38;5;129;01min\u001b[39;00m \u001b[38;5;28mrange\u001b[39m(\u001b[38;5;241m32\u001b[39m, \u001b[38;5;28mlen\u001b[39m(args), \u001b[38;5;241m31\u001b[39m):\n\u001b[1;32m    425\u001b[0m     \u001b[38;5;66;03m# ironically, np.broadcast does not properly handle np.broadcast\u001b[39;00m\n\u001b[1;32m    426\u001b[0m     \u001b[38;5;66;03m# objects (it treats them as scalars)\u001b[39;00m\n\u001b[1;32m    427\u001b[0m     \u001b[38;5;66;03m# use broadcasting to avoid allocating the full array\u001b[39;00m\n",
      "\u001b[0;31mValueError\u001b[0m: shape mismatch: objects cannot be broadcast to a single shape.  Mismatch is between arg 0 with shape (5,) and arg 1 with shape (3,)."
     ]
    },
    {
     "data": {
      "image/png": "[encoded data removed]",
      "text/plain": [
       "<Figure size 640x480 with 1 Axes>"
      ]
     },
     "metadata": {},
     "output_type": "display_data"
    }
   ],
   "source": [
    "import numpy as np\n",
    "import matplotlib.pyplot as plt\n",
    "\n",
    "# Sample counts\n",
    "counts = np.array([7500, 1000, 250, 250, 500, 250, 1000, 1000, 1000, \n",
    "                   250, 500, 1000, 500, 500, 500, 500, 500, 500, 500, 250, 500, 135, 1000, 1000, 0, 250])\n",
    "counts = np.array([7500,1000,500,250])\n",
    "# Threshold for merging classes\n",
    "threshold = 1000\n",
    "\n",
    "# Separate classes above and below the threshold\n",
    "above_threshold_counts = counts[counts >= threshold]\n",
    "below_threshold_counts = counts[counts < threshold]\n",
    "\n",
    "# Create bin labels for classes above the threshold\n",
    "above_threshold_labels = [\"0\",\"1,6,7,8,11,22,23\",\"4,10,12-18,20\",\"2,3,5,9,19,25\"]\n",
    "\n",
    "# Check if there are any classes below the threshold\n",
    "if len(below_threshold_counts) > 0:\n",
    "  # Calculate the average count for classes below the threshold\n",
    "  average_count = np.mean(below_threshold_counts)\n",
    "  # Create a bin label for the merged class\n",
    "  below_threshold_label = \"other\"\n",
    "  # Combine labels and counts\n",
    "  labels = np.concatenate((above_threshold_labels, [below_threshold_label]))\n",
    "  counts = np.concatenate((above_threshold_counts, [average_count]))\n",
    "else:\n",
    "  # No classes below the threshold, use original labels and counts\n",
    "  labels = [\"type_\" + str(i) for i in range(len(counts))]\n",
    "  counts = counts\n",
    "\n",
    "# Create the histogram\n",
    "plt.bar(labels, counts)\n",
    "plt.xlabel(\"Class Type\")\n",
    "plt.ylabel(\"Sample Count\")\n",
    "plt.title(\"Sample Count Distribution\")\n",
    "plt.xticks(rotation=45)  # Rotate x-axis labels for better readability\n",
    "plt.tight_layout()\n",
    "plt.show()\n",
    "\n"
   ]
  },
  {
   "cell_type": "code",
   "execution_count": null,
   "id": "454b810b",
   "metadata": {},
   "outputs": [],
   "source": []
  }
 ],
 "metadata": {
  "kernelspec": {
   "display_name": "Python 3 (ipykernel)",
   "language": "python",
   "name": "python3"
  },
  "language_info": {
   "codemirror_mode": {
    "name": "ipython",
    "version": 3
   },
   "file_extension": ".py",
   "mimetype": "text/x-python",
   "name": "python",
   "nbconvert_exporter": "python",
   "pygments_lexer": "ipython3",
   "version": "3.11.3"
  }
 },
 "nbformat": 4,
 "nbformat_minor": 5
}
