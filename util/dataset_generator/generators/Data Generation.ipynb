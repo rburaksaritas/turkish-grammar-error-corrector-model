{
 "cells": [
  {
   "cell_type": "code",
   "execution_count": 1,
   "id": "3564c288",
   "metadata": {},
   "outputs": [],
   "source": [
    "import pandas as pd\n",
    "import random\n",
    "import string\n",
    "from datasets import load_dataset\n",
    "import datasets\n",
    "import numpy as np"
   ]
  },
  {
   "cell_type": "code",
   "execution_count": 2,
   "id": "e5b9cbe7",
   "metadata": {},
   "outputs": [],
   "source": [
    "def change_case(sentence):\n",
    "    for i in range(100):\n",
    "        char_index = random.randint(0, len(sentence) - 1)\n",
    "        if sentence[char_index].isalpha():\n",
    "            break\n",
    "            \n",
    "    sentence_list = list(sentence)\n",
    "    sentence_list[char_index] = sentence_list[char_index].swapcase()\n",
    "    return ''.join(sentence_list)"
   ]
  },
  {
   "cell_type": "code",
   "execution_count": 3,
   "id": "279f843d",
   "metadata": {},
   "outputs": [],
   "source": [
    "def tr2en(sentence):\n",
    "    tr2en = [(\"i\",\"ı\"),(\"u\",\"ü\"),(\"o\",\"ö\"), (\"s\",\"ş\"), (\"c\",\"ç\"), (\"g\",\"ğ\")]\n",
    "    for i,j in tr2en:\n",
    "        sentence = sentence.replace(j,i)\n",
    "    \n",
    "    return sentence"
   ]
  },
  {
   "cell_type": "code",
   "execution_count": 4,
   "id": "7242bab6",
   "metadata": {},
   "outputs": [
    {
     "data": {
      "text/plain": [
       "'Hayatta en hakiki mursit ilimdir, fendir.'"
      ]
     },
     "execution_count": 4,
     "metadata": {},
     "output_type": "execute_result"
    }
   ],
   "source": [
    "tr2en(\"Hayatta en hakiki mürşit ilimdir, fendir.\")"
   ]
  },
  {
   "cell_type": "code",
   "execution_count": 5,
   "id": "2be745e1",
   "metadata": {},
   "outputs": [],
   "source": [
    "def change_case_upper_to_lower(sentence):\n",
    "    uppercase_indices = [i for i, char in enumerate(sentence) if char.isupper()]\n",
    "    if not uppercase_indices:\n",
    "        return sentence\n",
    "    char_index = random.choice(uppercase_indices)\n",
    "    sentence_list = list(sentence)\n",
    "    sentence_list[char_index] = sentence_list[char_index].lower()\n",
    "    return ''.join(sentence_list)"
   ]
  },
  {
   "cell_type": "code",
   "execution_count": 6,
   "id": "57d4629a",
   "metadata": {},
   "outputs": [],
   "source": [
    "def add_letter(sentence):\n",
    "    char_index = random.randint(0, len(sentence) - 1)\n",
    "    random_letter = random.choice(string.ascii_letters)\n",
    "    return sentence[:char_index] + random_letter + sentence[char_index:]"
   ]
  },
  {
   "cell_type": "code",
   "execution_count": 7,
   "id": "6ef08f83",
   "metadata": {},
   "outputs": [],
   "source": [
    "def remove_letter(sentence):\n",
    "    if len(sentence) > 1:\n",
    "        char_index = random.randint(0, len(sentence) - 1)\n",
    "        return sentence[:char_index] + sentence[char_index+1:]\n",
    "    return sentence"
   ]
  },
  {
   "cell_type": "code",
   "execution_count": 8,
   "id": "f95c6123",
   "metadata": {},
   "outputs": [],
   "source": [
    "def swap_adjacent_letters(sentence):\n",
    "    if len(sentence) > 1:\n",
    "        char_index = random.randint(0, len(sentence) - 2)\n",
    "        return (sentence[:char_index] + sentence[char_index+1] + sentence[char_index] +\n",
    "                sentence[char_index+2:])\n",
    "    return sentence"
   ]
  },
  {
   "cell_type": "code",
   "execution_count": 9,
   "id": "61606b19",
   "metadata": {},
   "outputs": [],
   "source": [
    "def substitute_letter(sentence):\n",
    "    if len(sentence) > 0:\n",
    "        char_index = random.randint(0, len(sentence) - 1)\n",
    "        substitute_letter = random.choice(string.ascii_letters)\n",
    "        return sentence[:char_index] + substitute_letter + sentence[char_index+1:]\n",
    "    return sentence"
   ]
  },
  {
   "cell_type": "code",
   "execution_count": 10,
   "id": "4d1f8861",
   "metadata": {},
   "outputs": [
    {
     "data": {
      "text/plain": [
       "'Hayatta en hakiki mirşit ilimdir, fendir.'"
      ]
     },
     "execution_count": 10,
     "metadata": {},
     "output_type": "execute_result"
    }
   ],
   "source": [
    "substitute_letter(\"Hayatta en hakiki mürşit ilimdir, fendir.\")"
   ]
  },
  {
   "cell_type": "code",
   "execution_count": 12,
   "id": "eddb5b3f",
   "metadata": {},
   "outputs": [],
   "source": [
    "def introduce_errors(sentence):\n",
    "    error_functions = [change_case, change_case_upper_to_lower, add_letter,\n",
    "                       remove_letter, swap_adjacent_letters, substitute_letter]\n",
    "    \n",
    "    num_errors = random.randint(2, max(len(sentence)//20,3))\n",
    "    \n",
    "    probs = [0.18, 0.18, 0.09, 0.19, 0.18, 0.18]\n",
    "    \n",
    "    chosen_functions = list(np.random.choice(error_functions, num_errors, replace=True, p=probs))\n",
    "    \n",
    "    if random.random()>0.7:\n",
    "        chosen_functions.append(tr2en)\n",
    "        \n",
    "    new_sentence = sentence\n",
    "    for error_function in chosen_functions:\n",
    "        new_sentence = error_function(new_sentence)\n",
    "    return new_sentence"
   ]
  },
  {
   "cell_type": "code",
   "execution_count": 13,
   "id": "b9df951b",
   "metadata": {},
   "outputs": [
    {
     "data": {
      "text/plain": [
       "Dataset({\n",
       "    features: ['tokens', 'labels'],\n",
       "    num_rows: 96919\n",
       "})"
      ]
     },
     "execution_count": 13,
     "metadata": {},
     "output_type": "execute_result"
    }
   ],
   "source": [
    "# Load the datasets\n",
    "df = load_dataset(\"mcemilg/GECTurk-generation\", split=\"train\").shuffle(seed=44)\n",
    "data_seq2type = load_dataset(\"GGLab/GECTurk\", split=\"train\").shuffle(seed=44)\n",
    "\n",
    "data_seq2type"
   ]
  },
  {
   "cell_type": "code",
   "execution_count": 14,
   "id": "c34ed887",
   "metadata": {},
   "outputs": [],
   "source": [
    "# Extract indexes of type 0\n",
    "from collections import defaultdict\n",
    "\n",
    "def extract_stats(dataset):\n",
    "    dct = defaultdict(set)\n",
    "    for row_idx, row in enumerate(dataset):\n",
    "        errorless=True\n",
    "        for token_type in row[\"labels\"]:\n",
    "            if token_type!=0:\n",
    "                errorless=False\n",
    "                dct[token_type].add(row_idx)\n",
    "                \n",
    "        if errorless:\n",
    "            dct[0].add(row_idx)\n",
    "            \n",
    "    return dict(dct)\n",
    "\n",
    "train_stats_dct = extract_stats(data_seq2type)"
   ]
  },
  {
   "cell_type": "code",
   "execution_count": 15,
   "id": "cddeebb3",
   "metadata": {},
   "outputs": [
    {
     "name": "stdout",
     "output_type": "stream",
     "text": [
      "Slice: Train\n"
     ]
    },
    {
     "data": {
      "text/html": [
       "<div>\n",
       "<style scoped>\n",
       "    .dataframe tbody tr th:only-of-type {\n",
       "        vertical-align: middle;\n",
       "    }\n",
       "\n",
       "    .dataframe tbody tr th {\n",
       "        vertical-align: top;\n",
       "    }\n",
       "\n",
       "    .dataframe thead th {\n",
       "        text-align: right;\n",
       "    }\n",
       "</style>\n",
       "<table border=\"1\" class=\"dataframe\">\n",
       "  <thead>\n",
       "    <tr style=\"text-align: right;\">\n",
       "      <th></th>\n",
       "      <th>0</th>\n",
       "      <th>1</th>\n",
       "      <th>2</th>\n",
       "      <th>3</th>\n",
       "      <th>4</th>\n",
       "      <th>5</th>\n",
       "      <th>6</th>\n",
       "      <th>7</th>\n",
       "      <th>8</th>\n",
       "      <th>9</th>\n",
       "      <th>...</th>\n",
       "      <th>16</th>\n",
       "      <th>17</th>\n",
       "      <th>18</th>\n",
       "      <th>19</th>\n",
       "      <th>20</th>\n",
       "      <th>21</th>\n",
       "      <th>22</th>\n",
       "      <th>23</th>\n",
       "      <th>24</th>\n",
       "      <th>25</th>\n",
       "    </tr>\n",
       "  </thead>\n",
       "  <tbody>\n",
       "    <tr>\n",
       "      <th>0</th>\n",
       "      <td>48746</td>\n",
       "      <td>8592</td>\n",
       "      <td>72</td>\n",
       "      <td>66</td>\n",
       "      <td>330</td>\n",
       "      <td>7261</td>\n",
       "      <td>21875</td>\n",
       "      <td>1251</td>\n",
       "      <td>976</td>\n",
       "      <td>197</td>\n",
       "      <td>...</td>\n",
       "      <td>286</td>\n",
       "      <td>322</td>\n",
       "      <td>396</td>\n",
       "      <td>3</td>\n",
       "      <td>5110</td>\n",
       "      <td>38</td>\n",
       "      <td>2525</td>\n",
       "      <td>1828</td>\n",
       "      <td>583</td>\n",
       "      <td>193</td>\n",
       "    </tr>\n",
       "  </tbody>\n",
       "</table>\n",
       "<p>1 rows × 26 columns</p>\n",
       "</div>"
      ],
      "text/plain": [
       "      0     1   2   3    4     5      6     7    8    9   ...   16   17   18  \\\n",
       "0  48746  8592  72  66  330  7261  21875  1251  976  197  ...  286  322  396   \n",
       "\n",
       "   19    20  21    22    23   24   25  \n",
       "0   3  5110  38  2525  1828  583  193  \n",
       "\n",
       "[1 rows x 26 columns]"
      ]
     },
     "execution_count": 15,
     "metadata": {},
     "output_type": "execute_result"
    }
   ],
   "source": [
    "def get_stats(dct, slice_, print_=False):\n",
    "    print(\"Slice:\",slice_)\n",
    "    stats = dict()\n",
    "    \n",
    "    for type_, indexes in sorted(dct.items()):\n",
    "        stats[type_] = [len(indexes)]\n",
    "        if print_:\n",
    "            print(\"type:\", type_, \"num_samples:\", len(indexes))\n",
    "    \n",
    "    return pd.DataFrame(stats)\n",
    "\n",
    "get_stats(train_stats_dct, \"Train\").head()"
   ]
  },
  {
   "cell_type": "code",
   "execution_count": 16,
   "id": "3e961305",
   "metadata": {},
   "outputs": [],
   "source": [
    "import numpy as np\n",
    "import random as rd\n",
    "random.seed(0)\n",
    "#selected_idxes = np.random.choice(list(train_stats_dct[0]),10000,replace=False)\n",
    "no_error = list(train_stats_dct[0])\n",
    "rd.shuffle(no_error)"
   ]
  },
  {
   "cell_type": "code",
   "execution_count": 17,
   "id": "24a5fc9a",
   "metadata": {},
   "outputs": [],
   "source": [
    "data_to_disrupt = no_error[:2500]"
   ]
  },
  {
   "cell_type": "code",
   "execution_count": 18,
   "id": "fc2bde29",
   "metadata": {},
   "outputs": [
    {
     "data": {
      "text/plain": [
       "Dataset({\n",
       "    features: ['source', 'target'],\n",
       "    num_rows: 2500\n",
       "})"
      ]
     },
     "execution_count": 18,
     "metadata": {},
     "output_type": "execute_result"
    }
   ],
   "source": [
    "data_filtered = df.select(data_to_disrupt)\n",
    "data_filtered"
   ]
  },
  {
   "cell_type": "code",
   "execution_count": 19,
   "id": "9a05aa32",
   "metadata": {},
   "outputs": [],
   "source": [
    "df_ = data_filtered.to_pandas()"
   ]
  },
  {
   "cell_type": "code",
   "execution_count": 20,
   "id": "f83f7b3e",
   "metadata": {},
   "outputs": [],
   "source": [
    "df_errors = pd.DataFrame({\n",
    "    'source': df_['target'].apply(lambda x: introduce_errors(x)), \n",
    "    'target': df_['target'] \n",
    "})\n",
    "\n",
    "df_errors.to_csv('spelling_errors.csv', index=False)"
   ]
  },
  {
   "cell_type": "code",
   "execution_count": 21,
   "id": "2f66beb2",
   "metadata": {},
   "outputs": [],
   "source": [
    "data_no_error = no_error[2500:9500]\n",
    "data_errorless = df.select(data_no_error)\n",
    "df_errorless = data_errorless.to_pandas()\n",
    "df_errorless.to_csv('no_errors.csv', index=False)"
   ]
  },
  {
   "cell_type": "code",
   "execution_count": null,
   "id": "78d8c60c",
   "metadata": {},
   "outputs": [],
   "source": []
  }
 ],
 "metadata": {
  "kernelspec": {
   "display_name": "Python 3 (ipykernel)",
   "language": "python",
   "name": "python3"
  },
  "language_info": {
   "codemirror_mode": {
    "name": "ipython",
    "version": 3
   },
   "file_extension": ".py",
   "mimetype": "text/x-python",
   "name": "python",
   "nbconvert_exporter": "python",
   "pygments_lexer": "ipython3",
   "version": "3.11.3"
  }
 },
 "nbformat": 4,
 "nbformat_minor": 5
}
